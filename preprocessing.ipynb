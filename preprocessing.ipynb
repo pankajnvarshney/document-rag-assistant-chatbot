{
 "cells": [
  {
   "cell_type": "code",
   "execution_count": null,
   "id": "6c2bee6d",
   "metadata": {
    "vscode": {
     "languageId": "plaintext"
    }
   },
   "outputs": [],
   "source": [
    "from PyPDF2 import PdfReader\n",
    "from sentence_transformers import SentenceTransformer\n",
    "from langchain.text_splitter import RecursiveCharacterTextSplitter\n",
    "import faiss\n",
    "import pickle, os\n",
    "\n",
    "# Load PDF\n",
    "reader = PdfReader(\"../data/AI_Training_Document.pdf\")\n",
    "raw_text = \"\".join([page.extract_text() for page in reader.pages])\n",
    "\n",
    "# Chunk text\n",
    "text_splitter = RecursiveCharacterTextSplitter(\n",
    "    chunk_size=300, chunk_overlap=50, separators=[\"\\n\\n\", \"\\n\", \".\", \"!\", \"?\"]\n",
    ")\n",
    "chunks = text_splitter.split_text(raw_text)\n",
    "\n",
    "# Save chunks\n",
    "os.makedirs(\"../chunks\", exist_ok=True)\n",
    "with open(\"../chunks/chunks.pkl\", \"wb\") as f:\n",
    "    pickle.dump(chunks, f)\n",
    "\n",
    "model = SentenceTransformer('all-MiniLM-L6-v2')\n",
    "embeddings = model.encode(chunks)\n",
    "\n",
    "# FAISS index\n",
    "index = faiss.IndexFlatL2(embeddings.shape[1])\n",
    "index.add(embeddings)\n",
    "\n",
    "# Save\n",
    "os.makedirs(\"../vectordb\", exist_ok=True)\n",
    "faiss.write_index(index, \"../vectordb/index.faiss\")\n",
    "\n",
    "with open(\"../vectordb/chunks.pkl\", \"wb\") as f:\n",
    "    pickle.dump(chunks, f)\n",
    "\n"
   ]
  }
 ],
 "metadata": {
  "language_info": {
   "name": "python"
  }
 },
 "nbformat": 4,
 "nbformat_minor": 5
}
